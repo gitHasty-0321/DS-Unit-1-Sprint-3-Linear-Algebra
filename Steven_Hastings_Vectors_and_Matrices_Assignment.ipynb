{
  "nbformat": 4,
  "nbformat_minor": 0,
  "metadata": {
    "colab": {
      "name": "Steven_Hastings_Vectors_and_Matrices_Assignment.ipynb",
      "provenance": [],
      "collapsed_sections": [],
      "include_colab_link": true
    },
    "kernelspec": {
      "name": "python3",
      "display_name": "Python 3"
    }
  },
  "cells": [
    {
      "cell_type": "markdown",
      "metadata": {
        "id": "view-in-github",
        "colab_type": "text"
      },
      "source": [
        "<a href=\"https://colab.research.google.com/github/gitHasty-0321/DS-Unit-1-Sprint-3-Linear-Algebra/blob/master/Steven_Hastings_Vectors_and_Matrices_Assignment.ipynb\" target=\"_parent\"><img src=\"https://colab.research.google.com/assets/colab-badge.svg\" alt=\"Open In Colab\"/></a>"
      ]
    },
    {
      "cell_type": "markdown",
      "metadata": {
        "id": "yXA3GwWhY9KL",
        "colab_type": "text"
      },
      "source": [
        "# Part 1 - Scalars and Vectors\n",
        "\n",
        "For the questions below it is not sufficient to simply provide answer to the questions, but you must solve the problems and show your work using python (the NumPy library will help a lot!) Translate the vectors and matrices into their appropriate python  representations and use numpy or functions that you write yourself to demonstrate the result or property. "
      ]
    },
    {
      "cell_type": "markdown",
      "metadata": {
        "id": "oNOTv43_Zi9L",
        "colab_type": "text"
      },
      "source": [
        "## 1.1 Create a two-dimensional vector and plot it on a graph"
      ]
    },
    {
      "cell_type": "code",
      "metadata": {
        "id": "XNqjzQzrkVG7",
        "colab_type": "code",
        "colab": {}
      },
      "source": [
        "import numpy as np \n",
        "import matplotlib.pyplot as plt\n",
        "import sympy as sym \n",
        "from IPython.display import display,Math"
      ],
      "execution_count": 0,
      "outputs": []
    },
    {
      "cell_type": "code",
      "metadata": {
        "id": "GcWhNYg_WWIZ",
        "colab_type": "code",
        "colab": {}
      },
      "source": [
        "row_vec = np.array([4,2])\n",
        "col_vec = np.array([ [-2], [3] ])"
      ],
      "execution_count": 0,
      "outputs": []
    },
    {
      "cell_type": "code",
      "metadata": {
        "id": "k5sjNNgQW04g",
        "colab_type": "code",
        "outputId": "be9d9010-9c88-4e94-f84a-956447cef727",
        "colab": {
          "base_uri": "https://localhost:8080/",
          "height": 52
        }
      },
      "source": [
        "print(np.shape(row_vec))\n",
        "print(np.shape(col_vec))"
      ],
      "execution_count": 5,
      "outputs": [
        {
          "output_type": "stream",
          "text": [
            "(2,)\n",
            "(2, 1)\n"
          ],
          "name": "stdout"
        }
      ]
    },
    {
      "cell_type": "code",
      "metadata": {
        "id": "54RBEjZ5W79f",
        "colab_type": "code",
        "outputId": "86bd8c13-04b7-45b1-c438-4b16b4292f58",
        "colab": {
          "base_uri": "https://localhost:8080/",
          "height": 265
        }
      },
      "source": [
        "plt.plot([0,row_vec[0]],[0,row_vec[1]],'r',label='row vector')\n",
        "plt.plot([0,col_vec[0]],[0,col_vec[1]],'b',label='column vector')\n",
        "\n",
        "plt.axis('square')\n",
        "plt.axis([-5,5,-5,5])\n",
        "plt.grid()\n",
        "plt.show()"
      ],
      "execution_count": 6,
      "outputs": [
        {
          "output_type": "display_data",
          "data": {
            "image/png": "[encoded data removed]",
            "text/plain": [
              "<Figure size 432x288 with 1 Axes>"
            ]
          },
          "metadata": {
            "tags": []
          }
        }
      ]
    },
    {
      "cell_type": "markdown",
      "metadata": {
        "id": "unKFT619lk3e",
        "colab_type": "text"
      },
      "source": [
        "## 1.2 Create a three-dimensional vecor and plot it on a graph"
      ]
    },
    {
      "cell_type": "code",
      "metadata": {
        "id": "atUEd3T6llKm",
        "colab_type": "code",
        "outputId": "05c104e1-ef3c-4b60-cfa1-1b41b8418203",
        "colab": {
          "base_uri": "https://localhost:8080/",
          "height": 248
        }
      },
      "source": [
        "#import 3d plotting tool\n",
        "from mpl_toolkits.mplot3d import Axes3D\n",
        "\n",
        "vec3D_1 = np.array([3,0,-4])\n",
        "vec3D_2 = np.array([-1,1,3])\n",
        "\n",
        "#set the scene for 3 dimensions\n",
        "fig = plt.figure(figsize=plt.figaspect(1))\n",
        "ax = fig.add_subplot(111, projection='3d')\n",
        "\n",
        "#draw vectors\n",
        "ax.plot([0,vec3D_1[0]],[0,vec3D_1[1]],[0, vec3D_1[2]],'c',linewidth=3)\n",
        "ax.plot([0,vec3D_2[0]],[0,vec3D_2[1]],[0, vec3D_2[2]],'#F72671',linewidth=3)\n",
        "\n",
        "# let's give her some depth with guidlines\n",
        "  # x axis guidelines\n",
        "ax.plot([-5,5],[0,0],[0,0], '--',color=[.7,.7,.7])\n",
        "  # y axis guidlines\n",
        "ax.plot([0,0],[-5,5],[0,0], '--',color=[.7,.7,.7])\n",
        "  # z axis guidelines\n",
        "ax.plot([0,0],[0,0],[-5,5], '--',color=[.7,.7,.7])\n",
        "\n",
        "ax.set_xlim3d(-5,5)\n",
        "ax.set_ylim3d(-5,5)\n",
        "ax.set_zlim3d(-5,5)\n",
        "\n",
        "plt.show()"
      ],
      "execution_count": 7,
      "outputs": [
        {
          "output_type": "display_data",
          "data": {
            "image/png": "[encoded data removed]",
            "text/plain": [
              "<Figure size 288x288 with 1 Axes>"
            ]
          },
          "metadata": {
            "tags": []
          }
        }
      ]
    },
    {
      "cell_type": "markdown",
      "metadata": {
        "id": "b7qFxbKxZmI2",
        "colab_type": "text"
      },
      "source": [
        "## 1.3 Scale the vectors you created in 1.1 by $5$, $\\pi$, and $-e$ and plot all four vectors (original + 3 scaled vectors) on a graph. What do you notice about these vectors? "
      ]
    },
    {
      "cell_type": "code",
      "metadata": {
        "id": "ah6zMSLJdJwL",
        "colab_type": "code",
        "outputId": "c06e174b-24b3-408e-e00d-6051ae01dc01",
        "colab": {
          "base_uri": "https://localhost:8080/",
          "height": 52
        }
      },
      "source": [
        "from math import e, pi\n",
        "print(e)\n",
        "print(pi)"
      ],
      "execution_count": 8,
      "outputs": [
        {
          "output_type": "stream",
          "text": [
            "2.718281828459045\n",
            "3.141592653589793\n"
          ],
          "name": "stdout"
        }
      ]
    },
    {
      "cell_type": "code",
      "metadata": {
        "id": "3qpwDlzXkVf5",
        "colab_type": "code",
        "outputId": "d5d850f8-7e01-44a3-9d42-4f55b20ebddc",
        "colab": {
          "base_uri": "https://localhost:8080/",
          "height": 268
        }
      },
      "source": [
        "# create set of given scalars\n",
        "scalar_set = [5,pi,-e]\n",
        "\n",
        "for i in scalar_set:\n",
        "  sc_vec = i*row_vec\n",
        "  plt.plot([0,sc_vec[0]],[0,sc_vec[1]],'o-',linewidth=3,label='$\\\\lambda=%g$' %(i))\n",
        "plt.plot([0,row_vec[0]],[0,row_vec[1]],'r',label='row vector')\n",
        "plt.axis('square')\n",
        "plt.legend()\n",
        "plt.axis([-10,10,-10,10])\n",
        "plt.xlim(-12,50)\n",
        "plt.ylim(-20,20)\n",
        "plt.grid()\n",
        "plt.show()"
      ],
      "execution_count": 9,
      "outputs": [
        {
          "output_type": "display_data",
          "data": {
            "image/png": "[encoded data removed]",
            "text/plain": [
              "<Figure size 432x288 with 1 Axes>"
            ]
          },
          "metadata": {
            "tags": []
          }
        }
      ]
    },
    {
      "cell_type": "markdown",
      "metadata": {
        "id": "wrgqa6sWimbH",
        "colab_type": "text"
      },
      "source": [
        "## 1.4 Graph vectors $\\vec{a}$ and $\\vec{b}$ and plot them on a graph\n",
        "\n",
        "\\begin{align}\n",
        "\\vec{a} = \\begin{bmatrix} 5 \\\\ 7 \\end{bmatrix}\n",
        "\\qquad\n",
        "\\vec{b} = \\begin{bmatrix} 3 \\\\4 \\end{bmatrix}\n",
        "\\end{align}"
      ]
    },
    {
      "cell_type": "code",
      "metadata": {
        "id": "I1BGXA_skV-b",
        "colab_type": "code",
        "outputId": "8614b63c-02f1-4916-d32d-a64d406cac22",
        "colab": {
          "base_uri": "https://localhost:8080/",
          "height": 730
        }
      },
      "source": [
        "vec_a = np.array([5,7])\n",
        "vec_b = np.array([3,4])\n",
        "vec_c = np.subtract(vec_a,vec_b)\n",
        "\n",
        "plt.figure(figsize= [10,12])\n",
        "plt.arrow(0,0, vec_a[0], vec_a[1], head_width=.02, head_length=0.01, color= '#AE81FF')\n",
        "plt.arrow(0,0, vec_b[0], vec_b[1], head_width=.02, head_length=0.01, color= '#625146')\n",
        "plt.title('Vectors a and b plotted out')\n",
        "plt.grid(True)\n",
        "\n",
        "plt.xlabel('Vector A')\n",
        "plt.ylabel('Vector B')\n",
        "plt.xlim(0,6)\n",
        "plt.ylim(0,8)\n",
        "\n",
        "plt.show()"
      ],
      "execution_count": 10,
      "outputs": [
        {
          "output_type": "display_data",
          "data": {
            "image/png": "[encoded data removed]",
            "text/plain": [
              "<Figure size 720x864 with 1 Axes>"
            ]
          },
          "metadata": {
            "tags": []
          }
        }
      ]
    },
    {
      "cell_type": "code",
      "metadata": {
        "id": "CQXy7Nq5Bz8g",
        "colab_type": "code",
        "outputId": "282153d5-689e-4c4b-c156-145a1e9554d6",
        "colab": {
          "base_uri": "https://localhost:8080/",
          "height": 35
        }
      },
      "source": [
        "np.subtract(vec_a,vec_b)"
      ],
      "execution_count": 11,
      "outputs": [
        {
          "output_type": "execute_result",
          "data": {
            "text/plain": [
              "array([2, 3])"
            ]
          },
          "metadata": {
            "tags": []
          },
          "execution_count": 11
        }
      ]
    },
    {
      "cell_type": "markdown",
      "metadata": {
        "id": "QN6RU_3gizpw",
        "colab_type": "text"
      },
      "source": [
        "## 1.5 find $\\vec{a} - \\vec{b}$ and plot the result on the same graph as $\\vec{a}$ and $\\vec{b}$. Is there a relationship between vectors $\\vec{a} \\thinspace, \\vec{b} \\thinspace \\text{and} \\thinspace \\vec{a-b}$"
      ]
    },
    {
      "cell_type": "code",
      "metadata": {
        "id": "64mey7Bz_SaN",
        "colab_type": "code",
        "outputId": "5e292a21-d39f-4c29-8644-5a6cc60fd3f9",
        "colab": {
          "base_uri": "https://localhost:8080/",
          "height": 732
        }
      },
      "source": [
        "plt.figure(figsize=[8,12],facecolor='#0A2A66',edgecolor=\"#FBE000\")\n",
        "plt.plot([0,vec_a[0]],[0,vec_a[1]],label='$v_a$',linewidth=3,color='#EA286D')\n",
        "plt.plot([0,vec_b[0]],[0,vec_b[1]],label='$v_b$',linewidth=3,color='#FBE500')\n",
        "plt.plot([0,vec_c[0]],[0,vec_c[1]],label='$v_a-v_b$',linewidth=3,color='#5CD34B')\n",
        "\n",
        "\n",
        "plt.axis('square')\n",
        "plt.legend()\n",
        "plt.axis([-2,6,-2,8])\n",
        "plt.tight_layout()\n",
        "\n",
        "plt.grid()\n",
        "plt.show()\n",
        "print(f\"let's see if vector a minus vector b , vector a and vector b have any relationshiop. . .\")"
      ],
      "execution_count": 52,
      "outputs": [
        {
          "output_type": "display_data",
          "data": {
            "image/png": "[encoded data removed]",
            "text/plain": [
              "<Figure size 576x864 with 1 Axes>"
            ]
          },
          "metadata": {
            "tags": []
          }
        },
        {
          "output_type": "stream",
          "text": [
            "let's see if vector a minus vector b , vector a and vector b have any relationshiop. . .\n"
          ],
          "name": "stdout"
        }
      ]
    },
    {
      "cell_type": "code",
      "metadata": {
        "id": "_3lZ7OhRFblb",
        "colab_type": "code",
        "colab": {}
      },
      "source": [
        "import seaborn as sns"
      ],
      "execution_count": 0,
      "outputs": []
    },
    {
      "cell_type": "code",
      "metadata": {
        "id": "kr36ibYW_0Dd",
        "colab_type": "code",
        "outputId": "ed7d5a4b-5ebf-4cfa-a7a7-e759c91611c3",
        "colab": {
          "base_uri": "https://localhost:8080/",
          "height": 722
        }
      },
      "source": [
        "plt.figure(figsize=[8,12])\n",
        "plt.style.use('dark_background')\n",
        "\n",
        "plt.plot([0,vec_a[0]],[0,vec_a[1]],label='$v_a$',linewidth=3,color='#EA286D')\n",
        "plt.plot([0,vec_b[0]],[0,vec_b[1]],label='$v_b$',linewidth=3,color='#FBE500')\n",
        "plt.plot([0,vec_c[0]]+vec_b[0],[0,vec_c[1]]+vec_b[1],label='$v_c+v_b$',linewidth=3,color='#5CD34B')\n",
        "\n",
        "plt.axis('square')\n",
        "plt.legend()\n",
        "plt.axis([-2,6,-2,8])\n",
        "plt.xlabel('Vector A')\n",
        "plt.ylabel('Vector B')\n",
        "plt.xlim(0,6)\n",
        "plt.ylim(0,8)\n",
        "plt.title('Disproving co-linearity through parameterization, or Linearly Dependence. (b - a) or (a - b) \\n when applied a scalar will allow us to fit any position in the 2D coordinate plane \\n given the scalar is a real number',\n",
        "          fontdict= {'fontsize': 20, 'color': 'lightgreen'})\n",
        "plt.text(2.5,4, s='VECTOR A', fontsize=18,color='#EA286D',rotation=50)\n",
        "plt.text(1.75,2, s='VECTOR B', fontsize=18,color='#FBE500',rotation=50)\n",
        "plt.text(3.35,3.75, s='Vector C scaled up by Vector B \\n from original graph shown in the \\n previous cell',\n",
        "         fontsize=14,color='#5CD34B',rotation=57)\n",
        "plt.grid(b=False)\n",
        "plt.show()\n"
      ],
      "execution_count": 102,
      "outputs": [
        {
          "output_type": "display_data",
          "data": {
            "image/png": "[encoded data removed]",
            "text/plain": [
              "<Figure size 576x864 with 1 Axes>"
            ]
          },
          "metadata": {
            "tags": []
          }
        }
      ]
    },
    {
      "cell_type": "markdown",
      "metadata": {
        "id": "1ZPVuJAlehu_",
        "colab_type": "text"
      },
      "source": [
        "## 1.6 Find $c \\cdot d$\n",
        "\n",
        "\\begin{align}\n",
        "\\vec{c} = \\begin{bmatrix}7 & 22 & 4 & 16\\end{bmatrix}\n",
        "\\qquad\n",
        "\\vec{d} = \\begin{bmatrix}12 & 6 & 2 & 9\\end{bmatrix}\n",
        "\\end{align}\n"
      ]
    },
    {
      "cell_type": "code",
      "metadata": {
        "id": "2_cZQFCskYNr",
        "colab_type": "code",
        "outputId": "36630763-d49e-4d25-bb9a-672af2941c73",
        "colab": {
          "base_uri": "https://localhost:8080/",
          "height": 52
        }
      },
      "source": [
        "c = np.array([7,22,4,16])\n",
        "d = np.array([12,6,2,9])\n",
        "\n",
        "print(c*d)\n",
        "print(np.multiply(c,d))"
      ],
      "execution_count": 14,
      "outputs": [
        {
          "output_type": "stream",
          "text": [
            "[ 84 132   8 144]\n",
            "[ 84 132   8 144]\n"
          ],
          "name": "stdout"
        }
      ]
    },
    {
      "cell_type": "markdown",
      "metadata": {
        "id": "cLm8yokpfg9B",
        "colab_type": "text"
      },
      "source": [
        "##  1.7 Find $e \\times f$\n",
        "\n",
        "\\begin{align}\n",
        "\\vec{e} = \\begin{bmatrix} 5 \\\\ 7 \\\\ 2 \\end{bmatrix}\n",
        "\\qquad\n",
        "\\vec{f} = \\begin{bmatrix} 3 \\\\4 \\\\ 6 \\end{bmatrix}\n",
        "\\end{align}"
      ]
    },
    {
      "cell_type": "code",
      "metadata": {
        "id": "ku-TdCKAkYs8",
        "colab_type": "code",
        "outputId": "80db3b34-2264-4c5e-f17a-357ae3657cbe",
        "colab": {
          "base_uri": "https://localhost:8080/",
          "height": 123
        }
      },
      "source": [
        "e = np.array([5,7,2])\n",
        "f = np.array([3,4,6])\n",
        "\n",
        "effigy = np.cross(e,f)\n",
        "print(f\"{np.cross(e,f)} Cross Product\\n\") \n",
        "\n",
        "length_effigy = np.linalg.norm(effigy)\n",
        "print(length_effigy)\n",
        "\n",
        "length_e = np.linalg.norm(e)\n",
        "print(length_e)\n",
        "\n",
        "length_f = np.linalg.norm(f)\n",
        "print(length_f)\n",
        "\n",
        "length_e*length_f"
      ],
      "execution_count": 150,
      "outputs": [
        {
          "output_type": "stream",
          "text": [
            "[ 34 -24  -1] Cross Product\n",
            "\n",
            "41.6293165929973\n",
            "8.831760866327848\n",
            "7.810249675906654\n"
          ],
          "name": "stdout"
        },
        {
          "output_type": "execute_result",
          "data": {
            "text/plain": [
              "68.97825744392215"
            ]
          },
          "metadata": {
            "tags": []
          },
          "execution_count": 150
        }
      ]
    },
    {
      "cell_type": "code",
      "metadata": {
        "id": "TcAD8Jc9SRn_",
        "colab_type": "code",
        "colab": {
          "base_uri": "https://localhost:8080/",
          "height": 70
        },
        "outputId": "adb1009e-4dc0-4afd-aa49-6b15b8b54f1d"
      },
      "source": [
        "# e = np.array([\n",
        "              \n",
        "#               [5],                 little confused because both \n",
        "#               [7],                   e and f look like column \n",
        "#               [2]                   vectors but cross product doesnt\n",
        "                                        #accept their shape \n",
        "#               ])\n",
        "# f = np.array([ \n",
        "              \n",
        "#               [3],\n",
        "#               [4],\n",
        "#               [6] \n",
        "              \n",
        "#               ])\n",
        "\n",
        "# print(np.multiply(e,f))"
      ],
      "execution_count": 143,
      "outputs": [
        {
          "output_type": "stream",
          "text": [
            "[[15]\n",
            " [28]\n",
            " [12]]\n"
          ],
          "name": "stdout"
        }
      ]
    },
    {
      "cell_type": "code",
      "metadata": {
        "id": "pZAOl5z_tFPm",
        "colab_type": "code",
        "outputId": "9dbeed67-6873-4f42-db55-3e3d9e318f85",
        "colab": {
          "base_uri": "https://localhost:8080/",
          "height": 35
        }
      },
      "source": [
        "e = np.array([5,7,2])\n",
        "f = np.array([3,4,6])\n",
        "\n",
        "e*f"
      ],
      "execution_count": 16,
      "outputs": [
        {
          "output_type": "execute_result",
          "data": {
            "text/plain": [
              "array([15, 28, 12])"
            ]
          },
          "metadata": {
            "tags": []
          },
          "execution_count": 16
        }
      ]
    },
    {
      "cell_type": "markdown",
      "metadata": {
        "id": "-TN8wO2-h53s",
        "colab_type": "text"
      },
      "source": [
        "## 1.8 Find $||g||$ and then find $||h||$. Which is longer?\n",
        "\n",
        "\\begin{align}\n",
        "\\vec{g} = \\begin{bmatrix} 1 \\\\ 1 \\\\ 1 \\\\ 8 \\end{bmatrix}\n",
        "\\qquad\n",
        "\\vec{h} = \\begin{bmatrix} 3 \\\\3 \\\\ 3 \\\\ 3 \\end{bmatrix}\n",
        "\\end{align}"
      ]
    },
    {
      "cell_type": "code",
      "metadata": {
        "id": "-5VKOMKBlgaA",
        "colab_type": "code",
        "outputId": "30ef6b95-ad42-4029-e190-ae81c8ad95f2",
        "colab": {
          "base_uri": "https://localhost:8080/",
          "height": 52
        }
      },
      "source": [
        "g = np.array([1,1,1,8])\n",
        "h = np.array([3,3,3,3])\n",
        "\n",
        "normed_g = np.linalg.norm(g)\n",
        "normed_h = np.linalg.norm(h)\n",
        "\n",
        "print(normed_g)\n",
        "print(normed_h)\n",
        "  # g is longer by two and some change"
      ],
      "execution_count": 17,
      "outputs": [
        {
          "output_type": "stream",
          "text": [
            "8.18535277187245\n",
            "6.0\n"
          ],
          "name": "stdout"
        }
      ]
    },
    {
      "cell_type": "markdown",
      "metadata": {
        "id": "njrWIMS-ZAoH",
        "colab_type": "text"
      },
      "source": [
        "# Part 2 - Matrices"
      ]
    },
    {
      "cell_type": "markdown",
      "metadata": {
        "id": "GjkcAVIOmOnn",
        "colab_type": "text"
      },
      "source": [
        "## 2.1 What are the dimensions of the following matrices? Which of the following can be multiplied together? See if you can find all of the different legal combinations.\n",
        "\\begin{align}\n",
        "A = \\begin{bmatrix}\n",
        "1 & 2 \\\\\n",
        "3 & 4 \\\\\n",
        "5 & 6\n",
        "\\end{bmatrix}\n",
        "\\qquad\n",
        "B = \\begin{bmatrix}\n",
        "2 & 4 & 6 \\\\\n",
        "\\end{bmatrix}\n",
        "\\qquad\n",
        "C = \\begin{bmatrix}\n",
        "9 & 6 & 3 \\\\\n",
        "4 & 7 & 11\n",
        "\\end{bmatrix}\n",
        "\\qquad\n",
        "D = \\begin{bmatrix}\n",
        "1 & 0 & 0 \\\\\n",
        "0 & 1 & 0 \\\\\n",
        "0 & 0 & 1\n",
        "\\end{bmatrix}\n",
        "\\qquad\n",
        "E = \\begin{bmatrix}\n",
        "1 & 3 \\\\\n",
        "5 & 7\n",
        "\\end{bmatrix}\n",
        "\\end{align}"
      ]
    },
    {
      "cell_type": "code",
      "metadata": {
        "id": "Z69c-uPtnbIx",
        "colab_type": "code",
        "colab": {}
      },
      "source": [
        "A = np.array([[1,2],\n",
        "             [3,4],\n",
        "             [5,6]])\n",
        "\n",
        "B = np.array([ [2,4,6]])\n",
        "\n",
        "C = np.array([[9,6,3],\n",
        "              [4,7,11]])\n",
        "\n",
        "D = np.array([ [1,0,0],\n",
        "              [0,1,0],\n",
        "              [0,0,1]])\n",
        "\n",
        "E = np.array([ [1,3],\n",
        "              [5,7] ])\n",
        "\n",
        "def matrixMultiplication(A,B):\n",
        "  '''\n",
        "  Parameters: Accepts two variable vectors, array/list like or pandas series\n",
        "\n",
        " Returns: the dot product of the two vectors\n",
        "\n",
        " Raises: a value error will be raised if the two vectors do not fit the \n",
        "        proper dimensions for matrix multiplication \n",
        "  '''\n",
        "    \n",
        "    # get matrix sizes\n",
        "  szA = np.shape(A)\n",
        "  szB = np.shape(B)\n",
        "    \n",
        "    # give error if sizes don't match\n",
        "  if szA[1]!=szB[0]:\n",
        "      raise ValueError('\"Inner\" dimensions don''t match!')\n",
        "    \n",
        "    # initialize\n",
        "  C = np.zeros((szA[0],szB[1]))\n",
        "    \n",
        "    # compute!\n",
        "  for i in range(szA[0]):\n",
        "      for j in range(szB[1]):\n",
        "          C[i,j] = np.dot(A[i,:],B[:,j])\n",
        "            \n",
        "  return C\n",
        "import inspect\n",
        "# inspect.getdoc(matrixMultiplication)"
      ],
      "execution_count": 0,
      "outputs": []
    },
    {
      "cell_type": "code",
      "metadata": {
        "id": "yp0YOObGItIE",
        "colab_type": "code",
        "colab": {}
      },
      "source": [
        "?matrixMultiplication"
      ],
      "execution_count": 0,
      "outputs": []
    },
    {
      "cell_type": "code",
      "metadata": {
        "id": "yHSTXH3wzbou",
        "colab_type": "code",
        "outputId": "194c4265-2ab8-4e4d-b81f-bc1ff002e530",
        "colab": {
          "base_uri": "https://localhost:8080/",
          "height": 840
        }
      },
      "source": [
        "print(f\"dimensions of vector A: {A.shape},dimensions of vector B :{B.shape},dimensions of vector C : {C.shape},dimensions of matrix D : {D.shape},dimensions of matrix E : {E.shape}\")\n",
        "print('\\n all possible matches follow: ')\n",
        "print(f\"\\n Matrix A and C : {matrixMultiplication(A,C)}\\n\")\n",
        "print(f\"Matrix A and E : {matrixMultiplication(A,E)}\\n\")\n",
        "print(f\"Matrix B and A : {matrixMultiplication(B,A)}\\n\")\n",
        "print(f\"Matrix B and D : {matrixMultiplication(B,D)}\\n\")\n",
        "print(f\"Matrix C and A : {matrixMultiplication(C,A)}\\n\")\n",
        "print(f\"Matrix C and D : {matrixMultiplication(C,D)}\\n\")\n",
        "print(f\"Matrix D and A : {matrixMultiplication(D,A)}\\n\")\n",
        "print(f\"Matrix E and C : {matrixMultiplication(E,C)}\\n\")\n",
        "\n",
        "matrixMultiplication(A,d)"
      ],
      "execution_count": 20,
      "outputs": [
        {
          "output_type": "stream",
          "text": [
            "dimensions of vector A: (3, 2),dimensions of vector B :(1, 3),dimensions of vector C : (2, 3),dimensions of matrix D : (3, 3),dimensions of matrix E : (2, 2)\n",
            "\n",
            " all possible matches follow: \n",
            "\n",
            " Matrix A and C : [[17. 20. 25.]\n",
            " [43. 46. 53.]\n",
            " [69. 72. 81.]]\n",
            "\n",
            "Matrix A and E : [[11. 17.]\n",
            " [23. 37.]\n",
            " [35. 57.]]\n",
            "\n",
            "Matrix B and A : [[44. 56.]]\n",
            "\n",
            "Matrix B and D : [[2. 4. 6.]]\n",
            "\n",
            "Matrix C and A : [[ 42.  60.]\n",
            " [ 80. 102.]]\n",
            "\n",
            "Matrix C and D : [[ 9.  6.  3.]\n",
            " [ 4.  7. 11.]]\n",
            "\n",
            "Matrix D and A : [[1. 2.]\n",
            " [3. 4.]\n",
            " [5. 6.]]\n",
            "\n",
            "Matrix E and C : [[21. 27. 36.]\n",
            " [73. 79. 92.]]\n",
            "\n"
          ],
          "name": "stdout"
        },
        {
          "output_type": "error",
          "ename": "ValueError",
          "evalue": "ignored",
          "traceback": [
            "\u001b[0;31m---------------------------------------------------------------------------\u001b[0m",
            "\u001b[0;31mValueError\u001b[0m                                Traceback (most recent call last)",
            "\u001b[0;32m<ipython-input-20-d956571f6a58>\u001b[0m in \u001b[0;36m<module>\u001b[0;34m()\u001b[0m\n\u001b[1;32m     10\u001b[0m \u001b[0mprint\u001b[0m\u001b[0;34m(\u001b[0m\u001b[0;34mf\"Matrix E and C : {matrixMultiplication(E,C)}\\n\"\u001b[0m\u001b[0;34m)\u001b[0m\u001b[0;34m\u001b[0m\u001b[0;34m\u001b[0m\u001b[0m\n\u001b[1;32m     11\u001b[0m \u001b[0;34m\u001b[0m\u001b[0m\n\u001b[0;32m---> 12\u001b[0;31m \u001b[0mmatrixMultiplication\u001b[0m\u001b[0;34m(\u001b[0m\u001b[0mA\u001b[0m\u001b[0;34m,\u001b[0m\u001b[0md\u001b[0m\u001b[0;34m)\u001b[0m\u001b[0;34m\u001b[0m\u001b[0;34m\u001b[0m\u001b[0m\n\u001b[0m",
            "\u001b[0;32m<ipython-input-18-963cb183077b>\u001b[0m in \u001b[0;36mmatrixMultiplication\u001b[0;34m(A, B)\u001b[0m\n\u001b[1;32m     31\u001b[0m     \u001b[0;31m# give error if sizes don't match\u001b[0m\u001b[0;34m\u001b[0m\u001b[0;34m\u001b[0m\u001b[0;34m\u001b[0m\u001b[0m\n\u001b[1;32m     32\u001b[0m   \u001b[0;32mif\u001b[0m \u001b[0mszA\u001b[0m\u001b[0;34m[\u001b[0m\u001b[0;36m1\u001b[0m\u001b[0;34m]\u001b[0m\u001b[0;34m!=\u001b[0m\u001b[0mszB\u001b[0m\u001b[0;34m[\u001b[0m\u001b[0;36m0\u001b[0m\u001b[0;34m]\u001b[0m\u001b[0;34m:\u001b[0m\u001b[0;34m\u001b[0m\u001b[0;34m\u001b[0m\u001b[0m\n\u001b[0;32m---> 33\u001b[0;31m       \u001b[0;32mraise\u001b[0m \u001b[0mValueError\u001b[0m\u001b[0;34m(\u001b[0m\u001b[0;34m'\"Inner\" dimensions don'\u001b[0m\u001b[0;34m't match!'\u001b[0m\u001b[0;34m)\u001b[0m\u001b[0;34m\u001b[0m\u001b[0;34m\u001b[0m\u001b[0m\n\u001b[0m\u001b[1;32m     34\u001b[0m \u001b[0;34m\u001b[0m\u001b[0m\n\u001b[1;32m     35\u001b[0m     \u001b[0;31m# initialize\u001b[0m\u001b[0;34m\u001b[0m\u001b[0;34m\u001b[0m\u001b[0;34m\u001b[0m\u001b[0m\n",
            "\u001b[0;31mValueError\u001b[0m: \"Inner\" dimensions dont match!"
          ]
        }
      ]
    },
    {
      "cell_type": "markdown",
      "metadata": {
        "id": "lMOlCoM3ncGa",
        "colab_type": "text"
      },
      "source": [
        "## 2.2 Find the following products: CD, AE, and BA. What are the dimensions of the resulting matrices? How does that relate to the dimensions of their factor matrices?"
      ]
    },
    {
      "cell_type": "markdown",
      "metadata": {
        "id": "uABBoVd230hB",
        "colab_type": "text"
      },
      "source": [
        "it takes the row length of the first matrix and the column length of the second matrix"
      ]
    },
    {
      "cell_type": "code",
      "metadata": {
        "id": "n4jwr1ZX04YT",
        "colab_type": "code",
        "colab": {}
      },
      "source": [
        "cd = np.dot(C,D)\n",
        "\n",
        "print(cd.shape)\n",
        "cd"
      ],
      "execution_count": 0,
      "outputs": []
    },
    {
      "cell_type": "code",
      "metadata": {
        "id": "bmYh2pg828Le",
        "colab_type": "code",
        "colab": {}
      },
      "source": [
        "ba = np.dot(B,A)\n",
        "\n",
        "print(ba.shape)\n",
        "ba"
      ],
      "execution_count": 0,
      "outputs": []
    },
    {
      "cell_type": "code",
      "metadata": {
        "id": "zhKwiSItoE2F",
        "colab_type": "code",
        "colab": {}
      },
      "source": [
        "ae = np.dot(A,E)\n",
        "\n",
        "print(ae.shape)\n",
        "ae"
      ],
      "execution_count": 0,
      "outputs": []
    },
    {
      "cell_type": "markdown",
      "metadata": {
        "id": "p2jmaGLgoFPN",
        "colab_type": "text"
      },
      "source": [
        "## 2.3  Find $F^{T}$. How are the numbers along the main diagonal (top left to bottom right) of the original matrix and its transpose related? What are the dimensions of $F$? What are the dimensions of $F^{T}$?\n",
        "\n",
        "\\begin{align}\n",
        "F = \n",
        "\\begin{bmatrix}\n",
        "20 & 19 & 18 & 17 \\\\\n",
        "16 & 15 & 14 & 13 \\\\\n",
        "12 & 11 & 10 & 9 \\\\\n",
        "8 & 7 & 6 & 5 \\\\\n",
        "4 & 3 & 2 & 1\n",
        "\\end{bmatrix}\n",
        "\\end{align}"
      ]
    },
    {
      "cell_type": "code",
      "metadata": {
        "id": "Wl3ElwgLqaAn",
        "colab_type": "code",
        "colab": {}
      },
      "source": [
        "F = np.array([ [20,19,18,17],\n",
        "              [16,15,14,13],\n",
        "              [12,11,10,9],\n",
        "              [8,7,6,5],\n",
        "              [4,3,2,1] ])\n",
        "\n",
        "f_transpose = F.T\n",
        "\n",
        "print(f\"{f_transpose} F.Transpose \\n\")\n",
        "print(f_transpose.shape)\n",
        "print('F.Transpose shape \\n')\n",
        "print(f\"{F} matrix F \\n\")\n",
        "print(F.shape)\n",
        "print('matrix F shape \\n')\n",
        "print(f'the diagonals are the same or the matrix is symmetric')"
      ],
      "execution_count": 0,
      "outputs": []
    },
    {
      "cell_type": "markdown",
      "metadata": {
        "id": "13ik2LEEZLHn",
        "colab_type": "text"
      },
      "source": [
        "# Part 3 - Square Matrices"
      ]
    },
    {
      "cell_type": "markdown",
      "metadata": {
        "id": "sDBAPUwfp7f7",
        "colab_type": "text"
      },
      "source": [
        "## 3.1 Find $IG$ (be sure to show your work) 😃\n",
        "\n",
        "You don't have to do anything crazy complicated here to show your work, just create the G matrix as specified below, and a corresponding 2x2 Identity matrix and then multiply them together to show the result. You don't need to write LaTeX or anything like that (unless you want to).\n",
        "\n",
        "\\begin{align}\n",
        "G= \n",
        "\\begin{bmatrix}\n",
        "13 & 14 \\\\\n",
        "21 & 12 \n",
        "\\end{bmatrix}\n",
        "\\end{align}"
      ]
    },
    {
      "cell_type": "code",
      "metadata": {
        "id": "ZnqvZBOYqar3",
        "colab_type": "code",
        "colab": {}
      },
      "source": [
        "G = np.array([ [13,14],\n",
        "              [21,12] ])\n",
        "\n",
        "identity = np.eye(2)\n",
        "\n",
        "print(identity)\n",
        "print('identity matrix\\n')\n",
        "print(G)\n",
        "print('square full rank matrix G\\n')\n",
        "print(f\"the identity matrix is essentially like multiplying by 1 {np.dot(identity,G)}\")"
      ],
      "execution_count": 0,
      "outputs": []
    },
    {
      "cell_type": "markdown",
      "metadata": {
        "id": "DZ_0XTDQqpMT",
        "colab_type": "text"
      },
      "source": [
        "## 3.2 Find $|H|$ and then find $|J|$.\n",
        "\n",
        "\\begin{align}\n",
        "H= \n",
        "\\begin{bmatrix}\n",
        "12 & 11 \\\\\n",
        "7 & 10 \n",
        "\\end{bmatrix}\n",
        "\\qquad\n",
        "J= \n",
        "\\begin{bmatrix}\n",
        "0 & 1 & 2 \\\\\n",
        "7 & 10 & 4 \\\\\n",
        "3 & 2 & 0\n",
        "\\end{bmatrix}\n",
        "\\end{align}\n"
      ]
    },
    {
      "cell_type": "code",
      "metadata": {
        "id": "5QShhoXyrjDS",
        "colab_type": "code",
        "colab": {}
      },
      "source": [
        "H = np.array([ [12,11],\n",
        "              [7,10] ])\n",
        "\n",
        "J = np.array([ [0,1,2],\n",
        "              [7,10,4],\n",
        "              [3,2,0] ])\n",
        "\n",
        "print(f\"manual appropriation of H determinant = {(12*10)-(11*7)}\")\n",
        "print('\\n thank you numpy')\n",
        "print(np.linalg.det(H))\n",
        "print('\\n')\n",
        "# determinant of J brokedown\n",
        "import pandas as pd\n",
        "\n",
        "Jframe = pd.DataFrame({'':[0,7,3],\" \":[1,10,2],'  ':[2,4,0]},index=['','',''])\n",
        "print(f\"Matrix J played by a Pandas Dataframe {Jframe}\")\n",
        "print('\\n')\n",
        "\n",
        "print(f\"first submatrix of J {Jframe.iloc[[1,2],[0,1]]}\")\n",
        "print('\\n')\n",
        "\n",
        "print(f\"second submatrix of J {Jframe.iloc[[1,2],[0,2]]}\")\n",
        "print(' \\n')\n",
        "\n",
        "print(f\"third submatrix of J {Jframe.iloc[[1,2],[1,2]]}\")\n",
        "print('\\n now multiply the first number in each column by the') \n",
        "print('cross-multiplication and subtraction of the corresponding submatrices \\n ')\n",
        "print(f\". . . or just let numpy figure it out :  {np.linalg.det(J)}\")\n"
      ],
      "execution_count": 0,
      "outputs": []
    },
    {
      "cell_type": "markdown",
      "metadata": {
        "colab_type": "text",
        "id": "zdXtOoxj2Li5"
      },
      "source": [
        "## 3.3 Find $H^{-1}$ and then find $J^{-1}$"
      ]
    },
    {
      "cell_type": "code",
      "metadata": {
        "id": "nyX6De2-rio1",
        "colab_type": "code",
        "colab": {}
      },
      "source": [
        "print(f\"{np.linalg.inv(H)} inversion of Matrix H \\n\")\n",
        "\n",
        "print(f\"{np.linalg.inv(J)} Matrix J Inversion\")"
      ],
      "execution_count": 0,
      "outputs": []
    },
    {
      "cell_type": "markdown",
      "metadata": {
        "id": "Vvd4Pe86rjhW",
        "colab_type": "text"
      },
      "source": [
        "## 3.4 Find $HH^{-1}$ and then find $J^{-1}J$. Is $HH^{-1} == J^{-1}J$? Why or Why not? \n",
        "\n",
        "Please ignore Python rounding errors. If necessary, format your output so that it rounds to 5 significant digits (the fifth decimal place)."
      ]
    },
    {
      "cell_type": "code",
      "metadata": {
        "id": "C_px8YYyN3h8",
        "colab_type": "code",
        "colab": {}
      },
      "source": [
        "HxH = np.multiply(H,np.linalg.inv(H))\n",
        "\n",
        "print(f\"{HxH.round(decimals=5)} \\n\")\n",
        "\n",
        "JxJ = np.multiply(np.linalg.inv(J),J)\n",
        "\n",
        "print(JxJ.round(decimals=5))"
      ],
      "execution_count": 0,
      "outputs": []
    },
    {
      "cell_type": "markdown",
      "metadata": {
        "id": "V0iTO4McYjtk",
        "colab_type": "text"
      },
      "source": [
        "# Stretch Goals: \n",
        "\n",
        "1. Write a function that can calculate the dot product of any two vectors of equal length that are passed to it.\n",
        "\n"
      ]
    },
    {
      "cell_type": "markdown",
      "metadata": {
        "id": "wkoFu21uW6gO",
        "colab_type": "text"
      },
      "source": [
        "2. Write a function that can calculate the norm of any vector"
      ]
    },
    {
      "cell_type": "code",
      "metadata": {
        "id": "NUKplX65WQQ_",
        "colab_type": "code",
        "colab": {}
      },
      "source": [
        "# LOOK TO SECTION 2.1 FOR FUNCTION IN USE OR TRY IT FOR YOURSELF\n",
        "def matrixMultiplication(A,B):\n",
        "  '''\n",
        "  Parameters: Accepts two array-like variables\n",
        "\n",
        " Returns: the dot product of the two vectors\n",
        "\n",
        " Raises: Calculates the norm and raises a value error \n",
        "        will be raised if the two vectors do not fit the \n",
        "        proper dimensions for matrix multiplication \n",
        "  '''\n",
        "    \n",
        "    # get matrix sizes\n",
        "  szA = np.shape(A)\n",
        "  szB = np.shape(B)\n",
        "    \n",
        "    # give error if sizes don't match\n",
        "  if szA[1]!=szB[0]:\n",
        "      raise ValueError('\"Inner\" dimensions don''t match!')\n",
        "    \n",
        "    # initialize\n",
        "  C = np.zeros((szA[0],szB[1]))\n",
        "    \n",
        "    # compute!\n",
        "  for i in range(szA[0]):\n",
        "      for j in range(szB[1]):\n",
        "          C[i,j] = np.dot(A[i,:],B[:,j])\n",
        "            \n",
        "  return C"
      ],
      "execution_count": 0,
      "outputs": []
    },
    {
      "cell_type": "code",
      "metadata": {
        "id": "9EkDn2Tw78Oz",
        "colab_type": "code",
        "colab": {}
      },
      "source": [
        "import inspect"
      ],
      "execution_count": 0,
      "outputs": []
    },
    {
      "cell_type": "code",
      "metadata": {
        "id": "hpn69imqW5jx",
        "colab_type": "code",
        "colab": {}
      },
      "source": [
        "### Try your Vectors here! "
      ],
      "execution_count": 0,
      "outputs": []
    },
    {
      "cell_type": "markdown",
      "metadata": {
        "id": "MN9dfx0uXBKd",
        "colab_type": "text"
      },
      "source": [
        "3. Prove to yourself again that the vectors in `1.9` are orthogonal by graphing them. "
      ]
    },
    {
      "cell_type": "code",
      "metadata": {
        "id": "jjeiZOGvXlo5",
        "colab_type": "code",
        "colab": {}
      },
      "source": [
        "  ###  ???  ####"
      ],
      "execution_count": 0,
      "outputs": []
    },
    {
      "cell_type": "markdown",
      "metadata": {
        "id": "zGmXYvffXE5O",
        "colab_type": "text"
      },
      "source": [
        "4. Research how to plot a 3d graph with animations so that you can make the graph rotate (this will be easier in a local notebook than in google colab)"
      ]
    },
    {
      "cell_type": "code",
      "metadata": {
        "id": "ZU54sdJ8XIF8",
        "colab_type": "code",
        "colab": {}
      },
      "source": [
        ""
      ],
      "execution_count": 0,
      "outputs": []
    },
    {
      "cell_type": "markdown",
      "metadata": {
        "id": "Xw3PAmtyXItN",
        "colab_type": "text"
      },
      "source": [
        "5. Create and plot a matrix on a 2d graph."
      ]
    },
    {
      "cell_type": "code",
      "metadata": {
        "id": "HH472a34XLFA",
        "colab_type": "code",
        "colab": {}
      },
      "source": [
        ""
      ],
      "execution_count": 0,
      "outputs": []
    },
    {
      "cell_type": "markdown",
      "metadata": {
        "id": "InLm3iIZXLlg",
        "colab_type": "text"
      },
      "source": [
        "6. Create and plot a matrix on a 3d graph."
      ]
    },
    {
      "cell_type": "code",
      "metadata": {
        "id": "znA2SuPYXOas",
        "colab_type": "code",
        "colab": {}
      },
      "source": [
        ""
      ],
      "execution_count": 0,
      "outputs": []
    },
    {
      "cell_type": "markdown",
      "metadata": {
        "id": "Nb-pk4d7XPL3",
        "colab_type": "text"
      },
      "source": [
        "7. Plot two vectors that are not collinear on a 2d graph. Calculate the determinant of the 2x2 matrix that these vectors form. How does this determinant relate to the graphical interpretation of the vectors?"
      ]
    },
    {
      "cell_type": "code",
      "metadata": {
        "id": "ACiDTuJhXQGR",
        "colab_type": "code",
        "colab": {}
      },
      "source": [
        ""
      ],
      "execution_count": 0,
      "outputs": []
    }
  ]
}